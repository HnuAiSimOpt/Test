{
 "cells": [
  {
   "cell_type": "code",
   "execution_count": 28,
   "id": "d7298377",
   "metadata": {},
   "outputs": [],
   "source": [
    "from sklearn.datasets import load_wine\n",
    "from sklearn.model_selection import train_test_split\n",
    "from sklearn.model_selection import cross_val_score\n",
    "from sklearn.model_selection import GridSearchCV\n",
    "from sklearn.svm import SVC, SVR\n",
    "from sklearn.metrics import accuracy_score, mean_squared_error\n",
    "from sklearn.preprocessing import StandardScaler\n",
    "\n",
    "# 加载数据集\n",
    "wine = load_wine()\n",
    "X, y = wine.data, wine.target\n",
    "\n",
    "# 标准化处理数据\n",
    "scaler = StandardScaler()\n",
    "X_train_scaled = scaler.fit_transform(X_train)\n",
    "X_test_scaled = scaler.transform(X_test)\n",
    "\n",
    "# 划分训练集和测试集\n",
    "X_train, X_test, y_train, y_test = train_test_split(X, y, test_size=0.2, random_state=42)"
   ]
  },
  {
   "cell_type": "code",
   "execution_count": 29,
   "id": "bb0d0665",
   "metadata": {},
   "outputs": [
    {
     "name": "stdout",
     "output_type": "stream",
     "text": [
      "SVM最佳参数： {'C': 10, 'gamma': 0.01}\n",
      "SVM最佳得分： 0.6189655172413794\n",
      "SVM准确率： 0.6666666666666666\n"
     ]
    }
   ],
   "source": [
    "# 定义参数范围\n",
    "svm_param_grid = {'C': [0.01, 0.1, 1, 10], 'gamma': [0.01, 0.1, 1, 10]}\n",
    "\n",
    "# SVM参数搜索\n",
    "svm_grid = GridSearchCV(SVC(), svm_param_grid, cv=5)\n",
    "svm_grid.fit(X_train, y_train)\n",
    "svm_best_params = svm_grid.best_params_\n",
    "svm_best_score = svm_grid.best_score_\n",
    "svm_pred = svm_grid.predict(X_test)\n",
    "svm_accuracy = accuracy_score(y_test, svm_pred)\n",
    "\n",
    "print(\"SVM最佳参数：\", svm_best_params)\n",
    "print(\"SVM最佳得分：\", svm_best_score)\n",
    "print(\"SVM准确率：\", svm_accuracy)"
   ]
  },
  {
   "cell_type": "code",
   "execution_count": 30,
   "id": "0ecce875",
   "metadata": {},
   "outputs": [
    {
     "name": "stdout",
     "output_type": "stream",
     "text": [
      "Cross-validation scores for SVM:  [0.75       0.66666667 0.66666667 0.71428571 0.8       ]\n"
     ]
    }
   ],
   "source": [
    "# 重新训练模型并进行交叉验证\n",
    "svm = SVC(C=10, kernel='rbf', gamma='scale')\n",
    "scores = cross_val_score(svm, X, y, cv=5)\n",
    "print(\"Cross-validation scores for SVM: \", scores)"
   ]
  },
  {
   "cell_type": "code",
   "execution_count": 31,
   "id": "28a98cdb",
   "metadata": {},
   "outputs": [
    {
     "name": "stdout",
     "output_type": "stream",
     "text": [
      "SVR最佳参数： {'C': 10, 'epsilon': 0.1}\n",
      "SVR最佳得分： 0.4686658828265681\n",
      "SVR均方误差： 0.22125168568113449\n"
     ]
    }
   ],
   "source": [
    "# 定义参数范围\n",
    "svr_param_grid = {'C': [0.01, 0.1, 1, 10], 'epsilon': [0.01, 0.1, 1, 10]}\n",
    "\n",
    "# SVR参数搜索\n",
    "svr_grid = GridSearchCV(SVR(), svr_param_grid, cv=5)\n",
    "svr_grid.fit(X_train, y_train)\n",
    "svr_best_params = svr_grid.best_params_\n",
    "svr_best_score = svr_grid.best_score_\n",
    "svr_pred = svr_grid.predict(X_test)\n",
    "svr_mse = mean_squared_error(y_test, svr_pred)\n",
    "\n",
    "print(\"SVR最佳参数：\", svr_best_params)\n",
    "print(\"SVR最佳得分：\", svr_best_score)\n",
    "print(\"SVR均方误差：\", svr_mse)"
   ]
  },
  {
   "cell_type": "code",
   "execution_count": 34,
   "id": "749faf56",
   "metadata": {},
   "outputs": [
    {
     "name": "stdout",
     "output_type": "stream",
     "text": [
      "Cross-validation scores for SVR:  [ 0.         -0.83911521  0.         -0.277272    0.        ]\n"
     ]
    }
   ],
   "source": [
    "# 重新训练模型并进行交叉验证\n",
    "svr = SVR(C=10, kernel='rbf', gamma='scale')\n",
    "scores = cross_val_score(svr, X, y, cv=5)\n",
    "print(\"Cross-validation scores for SVR: \", scores)"
   ]
  },
  {
   "cell_type": "code",
   "execution_count": null,
   "id": "cb6c2626",
   "metadata": {},
   "outputs": [],
   "source": []
  }
 ],
 "metadata": {
  "kernelspec": {
   "display_name": "Python 3 (ipykernel)",
   "language": "python",
   "name": "python3"
  },
  "language_info": {
   "codemirror_mode": {
    "name": "ipython",
    "version": 3
   },
   "file_extension": ".py",
   "mimetype": "text/x-python",
   "name": "python",
   "nbconvert_exporter": "python",
   "pygments_lexer": "ipython3",
   "version": "3.9.13"
  }
 },
 "nbformat": 4,
 "nbformat_minor": 5
}
